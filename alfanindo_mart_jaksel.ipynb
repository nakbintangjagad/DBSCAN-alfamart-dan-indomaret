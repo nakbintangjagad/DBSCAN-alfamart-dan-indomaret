{
 "cells": [
  {
   "cell_type": "code",
   "execution_count": null,
   "id": "4d0709f3",
   "metadata": {},
   "outputs": [],
   "source": [
    "import pandas as pd\n",
    "import numpy as np\n",
    "import matplotlib.pyplot as plt\n",
    "from sklearn.cluster import DBSCAN"
   ]
  },
  {
   "cell_type": "code",
   "execution_count": null,
   "id": "ef19faed",
   "metadata": {},
   "outputs": [],
   "source": [
    "# Muat data\n",
    "df = pd.read_csv('Data_Alfamart Indomaret_South Jakarta.csv')\n",
    "print(df.head())"
   ]
  },
  {
   "cell_type": "code",
   "execution_count": null,
   "id": "49f5810b",
   "metadata": {},
   "outputs": [],
   "source": [
    "# Menampilkan jumlah masing-masing store\n",
    "store_counts = df['store'].value_counts()\n",
    "print(store_counts)\n",
    "\n",
    "# Menampilkan total keseluruhan\n",
    "total = store_counts.sum()\n",
    "print(f\"Total seluruh store: {total}\")"
   ]
  },
  {
   "cell_type": "code",
   "execution_count": null,
   "id": "331e4a1f",
   "metadata": {},
   "outputs": [],
   "source": [
    "print(df.shape)"
   ]
  },
  {
   "cell_type": "code",
   "execution_count": null,
   "id": "a19cca5d",
   "metadata": {},
   "outputs": [],
   "source": [
    "# Siapkan data koordinat (latitude, longitude)\n",
    "coords = df[['latitude', 'longitude']].to_numpy()\n",
    "coords_rad = np.radians(coords)  # untuk jarak haversine"
   ]
  },
  {
   "cell_type": "code",
   "execution_count": null,
   "id": "4a7fb617",
   "metadata": {},
   "outputs": [],
   "source": [
    "# Terapkan DBSCAN dengan metric haversine (eps dalam satuan km dibagi dengan radius bumi)\n",
    "kms_per_radian = 6371.0088\n",
    "eps_km = 1.5  # misalnya 1.5 km radius cluster\n",
    "db = DBSCAN(eps=eps_km / kms_per_radian, min_samples=5, metric='haversine')\n",
    "df['cluster'] = db.fit_predict(coords_rad)"
   ]
  },
  {
   "cell_type": "code",
   "execution_count": null,
   "id": "3103dd07",
   "metadata": {},
   "outputs": [],
   "source": [
    "# Ringkasan hasil clustering\n",
    "print(df.groupby(['store', 'cluster']).size().unstack(fill_value=0))\n",
    "print(\"Jumlah outlier:\", (df['cluster'] == -1).sum())"
   ]
  },
  {
   "cell_type": "code",
   "execution_count": null,
   "id": "6b8286bd",
   "metadata": {},
   "outputs": [],
   "source": [
    "# Visualisasi hasil clustering dengan warna khusus\n",
    "plt.figure(figsize=(10, 8))\n",
    "\n",
    "color_mapping = {\n",
    "    'Alfamart': 'red',\n",
    "    'Indomaret': 'blue'\n",
    "}\n",
    "\n",
    "for store_name, color in color_mapping.items():\n",
    "    subset = df[df['store'] == store_name]\n",
    "    plt.scatter(subset['longitude'], subset['latitude'], \n",
    "                c=color, label=store_name, s=30, alpha=0.7, edgecolors='black')\n",
    "\n",
    "# Tandai outlier (jika ada)\n",
    "outliers = df[df['cluster'] == -1]\n",
    "plt.scatter(outliers['longitude'], outliers['latitude'], \n",
    "            color='black', label='Outliers', s=50, edgecolors='white')\n",
    "\n",
    "plt.xlabel('Longitude')\n",
    "plt.ylabel('Latitude')\n",
    "plt.title('DBSCAN Clustering of Alfamart (Merah) & Indomaret (Biru)')\n",
    "plt.legend()\n",
    "plt.grid(True)\n",
    "plt.show()\n"
   ]
  }
 ],
 "metadata": {
  "kernelspec": {
   "display_name": "Python 3",
   "language": "python",
   "name": "python3"
  },
  "language_info": {
   "codemirror_mode": {
    "name": "ipython",
    "version": 3
   },
   "file_extension": ".py",
   "mimetype": "text/x-python",
   "name": "python",
   "nbconvert_exporter": "python",
   "pygments_lexer": "ipython3",
   "version": "3.13.2"
  }
 },
 "nbformat": 4,
 "nbformat_minor": 5
}
